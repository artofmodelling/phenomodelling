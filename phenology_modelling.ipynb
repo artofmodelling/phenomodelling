{
 "cells": [
  {
   "cell_type": "markdown",
   "metadata": {},
   "source": [
    "<img style=\"float: right;\" src=\"data:image/png;base64,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\">\n",
    "\n"
   ]
  },
  {
   "cell_type": "markdown",
   "metadata": {},
   "source": [
    "# Simulating and calibrating phenology with WOFOST\n",
    "\n",
    "This Jupyter notebook will introduce the simulation of phenology with WOFOST. Moreover, you will attempt the estimate the important phenological parameters (TSUM1, TSUM2) by comparing observations with model predictions\n",
    "\n",
    "Allard de Wit, August 2025"
   ]
  },
  {
   "cell_type": "markdown",
   "metadata": {},
   "source": [
    "## 0. Installing the required packages"
   ]
  },
  {
   "cell_type": "code",
   "execution_count": null,
   "metadata": {},
   "outputs": [],
   "source": [
    "!pip install pcse "
   ]
  },
  {
   "cell_type": "markdown",
   "metadata": {},
   "source": [
    "## 1. Importing the relevant modules\n",
    "\n",
    "First the required modules need to be imported."
   ]
  },
  {
   "cell_type": "code",
   "execution_count": null,
   "metadata": {},
   "outputs": [],
   "source": [
    "%matplotlib inline\n",
    "import sys\n",
    "from pathlib import Path\n",
    "import json\n",
    "import yaml\n",
    "from urllib.parse import quote_plus\n",
    "from dotmap import DotMap\n",
    "from tqdm.notebook import tqdm\n",
    "import requests\n",
    "import pcse\n",
    "import pandas as pd\n",
    "import matplotlib\n",
    "matplotlib.style.use(\"ggplot\")\n",
    "import matplotlib.pyplot as plt\n",
    "print(\"This notebook was built with:\")\n",
    "print(f\"python version: {sys.version}\")\n",
    "print(f\"PCSE version: {pcse.__version__}\")"
   ]
  },
  {
   "cell_type": "markdown",
   "metadata": {},
   "source": [
    "## 2. Reading phenological observations\n",
    "\n",
    "The phenological observations are from an agroecological zone covering Ireland and part of the UK."
   ]
  },
  {
   "cell_type": "code",
   "execution_count": null,
   "metadata": {},
   "outputs": [],
   "source": [
    "url = \"https://github.com/artofmodelling/phenomodelling/raw/refs/heads/main/data/pheno_obs_1784.xlsx\"\n",
    "cwd = Path.cwd()\n",
    "fname = cwd / \"pheno_obs_1784.xlsx\"\n",
    "\n",
    "r = requests.get(url)\n",
    "with open(fname, 'wb') as fp:\n",
    "    fp.write(r.content)\n",
    "df = pd.read_excel(fname, sheet_name=\"data\")\n",
    "df_phenology_aez1784 = df[df.VALID == True]\n",
    "df_phenology_aez1784.head()"
   ]
  },
  {
   "cell_type": "markdown",
   "metadata": {},
   "source": [
    "## 3. Fetching weather data\n",
    "\n",
    "The code below pre-loads the weather data. Subsequent calls will be much faster."
   ]
  },
  {
   "cell_type": "code",
   "execution_count": null,
   "metadata": {},
   "outputs": [],
   "source": [
    "from functools import cache\n",
    "from pcse.util import wind10to2, check_date, reference_ET\n",
    "from pcse.base import WeatherDataContainer, WeatherDataProvider\n",
    "\n",
    "class AgERA5WeatherDataProvider(WeatherDataProvider):\n",
    "    variable_renaming = [(\"temperature_max\", \"TMAX\", None),\n",
    "                         (\"temperature_min\", \"TMIN\", None),\n",
    "                         (\"temperature_avg\",  \"TEMP\", None),\n",
    "                         (\"vapourpressure\", \"VAP\", None),\n",
    "                         (\"windspeed\", \"WIND\", wind10to2),\n",
    "                         (\"precipitation\", \"RAIN\", lambda x: x/10.),\n",
    "                         (\"radiation\", \"IRRAD\", lambda x: x*1000.),\n",
    "                         (\"snowdepth\", \"SNOWDEPTH\", None),\n",
    "                         (\"day\", \"DAY\", None)]\n",
    "\n",
    "    def __init__(self, meteo):\n",
    "        super().__init__()\n",
    "        location_info = DotMap(meteo[\"data\"][\"location_info\"])\n",
    "        self.longitude = float(location_info.grid_agera5_longitude)\n",
    "        self.latitude = float(location_info.grid_agera5_latitude)\n",
    "        self.elevation = float(location_info.grid_agera5_elevation)\n",
    "        df_AgERA5 = pd.DataFrame(meteo[\"data\"][\"weather_variables\"])\n",
    "\n",
    "        if len(df_AgERA5) == 0:\n",
    "            raise RuntimeError(\"No AgERA5 data found for this location and/or date range\")\n",
    "\n",
    "        # Rename columns and apply unit corrections\n",
    "        rename_cols = {old_name:new_name for old_name, new_name, conversion in self.variable_renaming}\n",
    "        convert_cols = {new_name:conversion for old_name, new_name, conversion in\n",
    "                        self.variable_renaming if conversion is not None}\n",
    "        df_AgERA5 = df_AgERA5.rename(columns=rename_cols)\n",
    "        for column, conv in convert_cols.items():\n",
    "            df_AgERA5[column] = df_AgERA5[column].apply(conv)\n",
    "\n",
    "        for row in df_AgERA5.itertuples(index=False):\n",
    "            self._make_WeatherDataContainer(row._asdict())\n",
    "\n",
    "    def _make_WeatherDataContainer(self, daily_weather):\n",
    "\n",
    "        daily_weather.update({\"LAT\": self.latitude, \"LON\": self.longitude, \"ELEV\": self.elevation})\n",
    "        # update Fake ET values for this example\n",
    "        daily_weather.update({\"E0\": 1., \"ES0\": 1., \"ET0\": 1.})\n",
    "\n",
    "        # Build weather data container from dict 't'\n",
    "        wdc = WeatherDataContainer(**daily_weather)\n",
    "\n",
    "        # add wdc to dictionary for thisdate\n",
    "        self._store_WeatherDataContainer(wdc, daily_weather[\"DAY\"])\n",
    "\n",
    "@cache\n",
    "def get_weatherdata(rec):\n",
    "    url = f\"https://raw.githubusercontent.com/artofmodelling/phenomodelling/refs/heads/main/data/meteo/{rec.ObjectID}.json\"\n",
    "    json_response = requests.get(url).json()\n",
    "    wdp =  AgERA5WeatherDataProvider(json_response)\n",
    "    return wdp\n",
    "\n",
    "for row in tqdm(df_phenology_aez1784.itertuples(), total=len(df_phenology_aez1784)):\n",
    "    wdp = get_weatherdata(row)"
   ]
  },
  {
   "cell_type": "markdown",
   "metadata": {},
   "source": [
    "## 4. Defining agromanagement\n",
    "\n",
    "The code below defines the agromanagement structure. Results are also cached to speed up the computations"
   ]
  },
  {
   "cell_type": "code",
   "execution_count": null,
   "metadata": {},
   "outputs": [],
   "source": [
    "@cache\n",
    "def get_agromanagement(rec):\n",
    "    if pd.isna(rec.DOS) and pd.isna(rec.DOE):\n",
    "        raise RuntimeError(f\"No sowing or emergence date for {rec.ObjectID}\")\n",
    "    elif not pd.isna(rec.DOS):\n",
    "        start_date = rec.DOS.date()\n",
    "        start_type = \"sowing\"\n",
    "    else:\n",
    "        start_date = rec.DOE.date()\n",
    "        start_type = \"emergence\"\n",
    "        \n",
    "    agro_yaml = f\"\"\"\n",
    "- {start_date}:\n",
    "    CropCalendar:\n",
    "        crop_name: barley\n",
    "        variety_name: Spring_barley_301\n",
    "        crop_start_date: {start_date}\n",
    "        crop_start_type: {start_type}\n",
    "        crop_end_date:\n",
    "        crop_end_type: maturity\n",
    "        max_duration: 300\n",
    "    TimedEvents:\n",
    "    StateEvents:\n",
    "    \"\"\"\n",
    "    agro = yaml.safe_load(agro_yaml)\n",
    "    return agro\n",
    "\n",
    "for row in tqdm(df_phenology_aez1784.itertuples(), total=len(df_phenology_aez1784)):\n",
    "    agro = get_agromanagement(row)"
   ]
  },
  {
   "cell_type": "markdown",
   "metadata": {},
   "source": [
    "## 5. Defining crop parameters"
   ]
  },
  {
   "cell_type": "code",
   "execution_count": null,
   "metadata": {},
   "outputs": [],
   "source": [
    "from pcse.base import ParameterProvider\n",
    "from pcse.input import YAMLCropDataProvider\n",
    "\n",
    "cropd = YAMLCropDataProvider()\n",
    "params = ParameterProvider(cropdata=cropd)"
   ]
  },
  {
   "cell_type": "markdown",
   "metadata": {},
   "source": [
    "## 6. Running the crop phenology model\n",
    "\n",
    "The code below runs the phenology model for all points where we have observations in order to make a prediction of anthesis and maturity dates. It uses the given TSUM1 and TSUM2 as parameters for the prediction.\n",
    "\n",
    "Note that you can change the values of TSUM1/2 to improve the prediction"
   ]
  },
  {
   "cell_type": "code",
   "execution_count": null,
   "metadata": {},
   "outputs": [],
   "source": [
    "from pcse.models import Wofost72_Phenology\n",
    "TSUM1 = 600\n",
    "TSUM2 = 700\n",
    "\n",
    "results = []\n",
    "for row in  tqdm(df_phenology_aez1784.itertuples(), total=len(df_phenology_aez1784)):\n",
    "    wdp = get_weatherdata(row)\n",
    "    agro = get_agromanagement(row)\n",
    "    params.set_override(\"TSUM1\", TSUM1, check=False)\n",
    "    params.set_override(\"TSUM2\", TSUM1, check=False)\n",
    "    wofost = Wofost72_Phenology(params, wdp, agro)\n",
    "    wofost.run_till_terminate()\n",
    "    output = wofost.get_summary_output()[0]\n",
    "    output[\"ObjectID\"] = row.ObjectID\n",
    "    results.append(output)\n",
    "df_wofost_results = pd.DataFrame(results)"
   ]
  },
  {
   "cell_type": "markdown",
   "metadata": {},
   "source": [
    "## 6. Process simulated results\n",
    "We need to do some processing on the model output. For example we need to convert date datatypes and compute the number of days between sowing and anthesis/maturity."
   ]
  },
  {
   "cell_type": "code",
   "execution_count": null,
   "metadata": {},
   "outputs": [],
   "source": [
    "selected_columns = [\"DOS\",\"DOE\",\"DOA\",\"DOM\"]\n",
    "df_pheno_sim = df_wofost_results.set_index(\"ObjectID\")[selected_columns]\n",
    "for column in selected_columns:\n",
    "    df_pheno_sim[column] = pd.to_datetime(df_pheno_sim[column])\n",
    "df_pheno_sim[\"days2anthesis\"] = (df_pheno_sim.DOA - df_pheno_sim.DOS).dt.days\n",
    "df_pheno_sim[\"days2maturity\"] = (df_pheno_sim.DOM - df_pheno_sim.DOS).dt.days\n",
    "df_pheno_sim.head()"
   ]
  },
  {
   "cell_type": "markdown",
   "metadata": {},
   "source": [
    "## 7. Process observed data\n",
    "We need to do some similar processing on the observations. Moreover, there are many observations of harvest but only a few of maturity. Therefore we estimated maturity from harvest by subtracting 7 days. Here we assume that farmers harvest their crop 7 days after maturity. This is a rough estimate and in practice it depends on all kind of factors: crop type, weather conditions, availability of labour and machinery, etc."
   ]
  },
  {
   "cell_type": "code",
   "execution_count": null,
   "metadata": {},
   "outputs": [],
   "source": [
    "df_pheno_obs = df_phenology_aez1784.set_index(\"ObjectID\")\n",
    "df_pheno_obs = df_pheno_obs[[\"DOS\",\"DOA\",\"DOM\",\"DOH\"]]\n",
    "# Estimate maturity from harvest if DOM is null\n",
    "days_to_harvest = 7\n",
    "ix = pd.isna(df_pheno_obs.DOM)\n",
    "df_pheno_obs.loc[ix, \"DOM\"] = df_pheno_obs.loc[ix,\"DOH\"] - pd.Timedelta(days_to_harvest, unit=\"days\")\n",
    "df_pheno_obs[\"days2anthesis\"] = (df_pheno_obs.DOA - df_pheno_obs.DOS).dt.days\n",
    "df_pheno_obs[\"days2maturity\"] = (df_pheno_obs.DOM - df_pheno_obs.DOS).dt.days\n",
    "df_pheno_obs.head()"
   ]
  },
  {
   "cell_type": "markdown",
   "metadata": {},
   "source": [
    "## 8. Plot observations against predictions\n",
    "Here we plot the simulated number of days to anthesis and maturity against the observations. \n",
    "\n",
    "What do you conclude and can you do better?"
   ]
  },
  {
   "cell_type": "code",
   "execution_count": null,
   "metadata": {},
   "outputs": [],
   "source": [
    "fig, axes = plt.subplots(figsize=(8,8))\n",
    "ix = pd.isna(df_pheno_obs.days2anthesis)\n",
    "axes.scatter(df_pheno_obs[~ix].days2anthesis, df_pheno_sim[~ix].days2anthesis, label=\"Days2Anthesis\", color='blue', marker=\"o\")\n",
    "ix = pd.isna(df_pheno_obs.days2maturity)\n",
    "axes.scatter(df_pheno_obs[~ix].days2maturity, df_pheno_sim[~ix].days2maturity, label=\"Days2Maturity\", color='orange', marker=\"o\")\n",
    "limits = [40, 200]\n",
    "axes.set_xlabel(\"Observed days to stage\")\n",
    "axes.set_ylabel(\"Simulated days to stage\")\n",
    "axes.set_xlim(limits)\n",
    "axes.set_ylim(limits)\n",
    "axes.plot(limits, limits, marker=\"\", linestyle=\"--\", color='black')\n",
    "r = fig.legend(loc=2)\n"
   ]
  },
  {
   "cell_type": "code",
   "execution_count": null,
   "metadata": {},
   "outputs": [],
   "source": [
    "df_pheno_obs"
   ]
  },
  {
   "cell_type": "code",
   "execution_count": null,
   "metadata": {},
   "outputs": [],
   "source": []
  }
 ],
 "metadata": {
  "kernelspec": {
   "display_name": "Python 3 (ipykernel)",
   "language": "python",
   "name": "python3"
  },
  "language_info": {
   "codemirror_mode": {
    "name": "ipython",
    "version": 3
   },
   "file_extension": ".py",
   "mimetype": "text/x-python",
   "name": "python",
   "nbconvert_exporter": "python",
   "pygments_lexer": "ipython3",
   "version": "3.10.13"
  }
 },
 "nbformat": 4,
 "nbformat_minor": 4
}
